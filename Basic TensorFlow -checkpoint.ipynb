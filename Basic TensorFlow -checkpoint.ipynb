{
 "cells": [
  {
   "cell_type": "code",
   "execution_count": 1,
   "metadata": {},
   "outputs": [
    {
     "name": "stdout",
     "output_type": "stream",
     "text": [
      "WARNING:tensorflow:From C:\\Users\\joshu\\anaconda3\\lib\\site-packages\\tensorflow\\python\\compat\\v2_compat.py:96: disable_resource_variables (from tensorflow.python.ops.variable_scope) is deprecated and will be removed in a future version.\n",
      "Instructions for updating:\n",
      "non-resource variables are not supported in the long term\n"
     ]
    }
   ],
   "source": [
    "#Importing relevant Libraries\n",
    "import numpy as np\n",
    "import matplotlib.pyplot as plt\n",
    "import tensorflow as tf\n",
    "import tensorflow.compat.v1 as tf\n",
    "tf.disable_v2_behavior()"
   ]
  },
  {
   "cell_type": "code",
   "execution_count": 2,
   "metadata": {},
   "outputs": [],
   "source": [
    "#Data Generation\n",
    "\n",
    "observations = 1000\n",
    "\n",
    "xs = np.random.uniform(-10,10,(observations,1))\n",
    "zs = np.random.uniform(-10,10,(observations,1))\n",
    "\n",
    "generated_inputs = np.column_stack((xs,zs))\n",
    "\n",
    "noise = np.random.uniform(-1,1,(observations,1))\n",
    "\n",
    "generated_targets = 2 * xs - 3 * zs + 5 + noise\n",
    "\n",
    "np.savez('Tensor_flow',inputs=generated_inputs,targets=generated_targets)"
   ]
  },
  {
   "cell_type": "code",
   "execution_count": 3,
   "metadata": {},
   "outputs": [],
   "source": [
    "# Building the model\n",
    "input_size = 2\n",
    "output_size = 1"
   ]
  },
  {
   "cell_type": "code",
   "execution_count": 4,
   "metadata": {},
   "outputs": [],
   "source": [
    "inputs = tf.placeholder(tf.float32,[None,input_size])\n",
    "targets = tf.placeholder(tf.float32,[None,output_size])"
   ]
  },
  {
   "cell_type": "code",
   "execution_count": 5,
   "metadata": {},
   "outputs": [],
   "source": [
    "weights = tf.Variable(tf.random.uniform([input_size,output_size],minval=-0.1,maxval=0.1))\n",
    "biases = tf.Variable(tf.random.uniform([output_size],minval=-0.1,maxval=0.1))\n",
    "\n",
    "outputs = tf.matmul(inputs,weights) + biases"
   ]
  },
  {
   "cell_type": "code",
   "execution_count": 6,
   "metadata": {},
   "outputs": [],
   "source": [
    "# Objective Function\n",
    "mean_loss = tf.losses.mean_squared_error(labels=targets,predictions=outputs) / 2.0"
   ]
  },
  {
   "cell_type": "code",
   "execution_count": 7,
   "metadata": {},
   "outputs": [],
   "source": [
    "#Optimization Algorithm\n",
    "\n",
    "optimize = tf.train.GradientDescentOptimizer(learning_rate=0.05).minimize(mean_loss)\n",
    "# Until here nothing happens or gets executed"
   ]
  },
  {
   "cell_type": "code",
   "execution_count": 8,
   "metadata": {},
   "outputs": [],
   "source": [
    "sess = tf.InteractiveSession()"
   ]
  },
  {
   "cell_type": "code",
   "execution_count": 9,
   "metadata": {},
   "outputs": [],
   "source": [
    "initializer = tf.global_variables_initializer()\n",
    "sess.run(initializer)\n",
    "\n"
   ]
  },
  {
   "cell_type": "code",
   "execution_count": 10,
   "metadata": {},
   "outputs": [],
   "source": [
    "training_data = np.load('Tensor_flow.npz')"
   ]
  },
  {
   "cell_type": "code",
   "execution_count": 12,
   "metadata": {},
   "outputs": [
    {
     "name": "stdout",
     "output_type": "stream",
     "text": [
      "218.81178\n",
      "91.023796\n",
      "41.93826\n",
      "22.203794\n",
      "13.770294\n",
      "9.84842\n",
      "7.804581\n",
      "6.5834556\n",
      "5.747701\n",
      "5.109552\n",
      "4.5850916\n",
      "4.134869\n",
      "3.7390127\n",
      "3.3865275\n",
      "3.070593\n",
      "2.7864618\n",
      "2.5304909\n",
      "2.299682\n",
      "2.0914679\n",
      "1.9035916\n",
      "1.7340474\n",
      "1.5810356\n",
      "1.4429404\n",
      "1.3183054\n",
      "1.2058173\n",
      "1.1042918\n",
      "1.0126615\n",
      "0.9299604\n",
      "0.8553199\n",
      "0.7879526\n",
      "0.72715056\n",
      "0.67227465\n",
      "0.62274647\n",
      "0.57804483\n",
      "0.53769946\n",
      "0.5012858\n",
      "0.46842113\n",
      "0.43875933\n",
      "0.4119879\n",
      "0.38782576\n",
      "0.36601818\n",
      "0.34633607\n",
      "0.32857198\n",
      "0.31253913\n",
      "0.29806867\n",
      "0.28500828\n",
      "0.27322096\n",
      "0.26258212\n",
      "0.25298014\n",
      "0.244314\n",
      "0.23649219\n",
      "0.22943301\n",
      "0.2230616\n",
      "0.21731119\n",
      "0.21212116\n",
      "0.20743689\n",
      "0.2032091\n",
      "0.19939335\n",
      "0.19594948\n",
      "0.19284123\n",
      "0.19003576\n",
      "0.18750386\n",
      "0.18521875\n",
      "0.18315622\n",
      "0.18129465\n",
      "0.17961456\n",
      "0.1780982\n",
      "0.17672962\n",
      "0.17549436\n",
      "0.1743795\n",
      "0.17337336\n",
      "0.17246525\n",
      "0.17164569\n",
      "0.17090586\n",
      "0.17023826\n",
      "0.16963568\n",
      "0.16909179\n",
      "0.16860098\n",
      "0.16815796\n",
      "0.16775806\n",
      "0.16739719\n",
      "0.16707149\n",
      "0.16677752\n",
      "0.16651219\n",
      "0.16627273\n",
      "0.16605656\n",
      "0.16586155\n",
      "0.16568552\n",
      "0.16552658\n",
      "0.1653832\n",
      "0.16525376\n",
      "0.16513695\n",
      "0.16503148\n",
      "0.16493633\n",
      "0.16485043\n",
      "0.16477293\n",
      "0.16470297\n",
      "0.16463983\n",
      "0.16458285\n",
      "0.16453142\n"
     ]
    }
   ],
   "source": [
    "for e in range(100):\n",
    "    _,curr_loss = sess.run([optimize,mean_loss],\n",
    "                          feed_dict = {inputs:training_data['inputs'],targets:training_data['targets']})\n",
    "    print(curr_loss)\n",
    "    "
   ]
  },
  {
   "cell_type": "code",
   "execution_count": null,
   "metadata": {},
   "outputs": [],
   "source": []
  }
 ],
 "metadata": {
  "kernelspec": {
   "display_name": "Python 3",
   "language": "python",
   "name": "python3"
  },
  "language_info": {
   "codemirror_mode": {
    "name": "ipython",
    "version": 3
   },
   "file_extension": ".py",
   "mimetype": "text/x-python",
   "name": "python",
   "nbconvert_exporter": "python",
   "pygments_lexer": "ipython3",
   "version": "3.7.6"
  }
 },
 "nbformat": 4,
 "nbformat_minor": 4
}
